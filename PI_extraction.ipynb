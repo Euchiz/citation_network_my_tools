{
 "cells": [
  {
   "cell_type": "markdown",
   "metadata": {},
   "source": [
    "©ZacZou\n",
    "2020.12.4\n",
    "根据WoS导出的文件将文章和作者中的PI对应起来（PI来自参考清单，从官网摘取整理得到）"
   ]
  },
  {
   "cell_type": "code",
   "execution_count": 132,
   "metadata": {},
   "outputs": [
    {
     "name": "stdout",
     "output_type": "stream",
     "text": [
      "Extraction Succeeded\n",
      "Please wait. Now writing file to 'pi-title.tsv'......\n",
      "Finished, 1023 elements saved.\n"
     ]
    }
   ],
   "source": [
    "import time\n",
    "\n",
    "def name_modify(name):\n",
    "    if not name.find('-')==-1:\n",
    "        name_f = name.split('-')\n",
    "        name1 = name_f[0]+'-'+name_f[1].capitalize()\n",
    "        name2 = name_f[0]+name_f[1]\n",
    "    else:\n",
    "        name1 = name2 = name\n",
    "    return [name1, name2]\n",
    "\n",
    "def read_and_catch(file_loc, ref_loc):\n",
    "    \n",
    "    f = open(file_loc)\n",
    "    text = f.readlines()\n",
    "    f.close\n",
    "    f = open(ref_loc)\n",
    "    ref_list = {}\n",
    "    for i in f.readlines():\n",
    "        tmp = i.strip().split('\\t')\n",
    "        for each in tmp:\n",
    "            for name in name_modify(each):\n",
    "                ref_list[name] = name_modify(tmp[0])[1]\n",
    "    f.close\n",
    "    \n",
    "    ready = finish = True\n",
    "    titles = []\n",
    "    authors = []\n",
    "    \n",
    "    for line in text:\n",
    "        head = line[0:2]\n",
    "        if head == \"AF\" and (ready) and (finish):\n",
    "            new = []\n",
    "            name = line.strip()[3:]\n",
    "            if name in ref_list:\n",
    "                new += [ref_list[name]]\n",
    "            ready = False\n",
    "        if head == \"  \" and (not ready) and (finish):\n",
    "            name = line.strip()\n",
    "            if name in ref_list.keys():\n",
    "                new += [ref_list[name]]\n",
    "        if head == \"TI\" and (not ready) and (finish):\n",
    "            title = line.strip()[3:]\n",
    "            finish = False\n",
    "        if head == \"  \" and (not ready) and (not finish):\n",
    "            title += \" \" + line.strip()\n",
    "        if head == \"SO\" and (not ready) and (not finish):\n",
    "            titles += [title.strip()]\n",
    "            authors +=  [new]\n",
    "            finish = ready = True\n",
    "    for i in range(0,len(authors)):\n",
    "        if authors[i] == []:\n",
    "            authors[i] = ['NA']\n",
    "            \n",
    "    return [titles, authors]\n",
    "\n",
    "if __name__ == '__main__':\n",
    "    loc = \"/home/zaczou/projects/network_science/data/\"\n",
    "    titles = [\"title\"]\n",
    "    authors = [[\"author\"]]\n",
    "    for year in [2004,2005,2006,2007,2008,2009,2010,2011,2013,2014,2015,2016,2017,2018,2019]:\n",
    "        [tmp1, tmp2] = read_and_catch(loc+\"download_%d.txt\"%year,loc+\"pi_list.txt\")\n",
    "        titles += tmp1\n",
    "        authors += tmp2\n",
    "    if(len(titles)==len(authors)): print(\"Extraction Succeeded\")\n",
    "    else: print(\"Extraction Failed\")\n",
    "    f = open(loc+\"pi-title.tsv\", 'w')\n",
    "    for i in range(0,len(titles)):\n",
    "        print(\"%s\"%titles[i], end = '', file = f)\n",
    "        print(\"\\t%s\\n\"%authors[i][0], end = '', file = f)    \n",
    "    f.close\n",
    "    print(\"Please wait. Now writing file to 'pi-title.tsv'......\")\n",
    "    time.sleep(60)\n",
    "    print(\"Finished, %d elements saved.\"%(len(titles)-1))"
   ]
  },
  {
   "cell_type": "code",
   "execution_count": null,
   "metadata": {},
   "outputs": [],
   "source": []
  }
 ],
 "metadata": {
  "kernelspec": {
   "display_name": "Python 3",
   "language": "python",
   "name": "python3"
  },
  "language_info": {
   "codemirror_mode": {
    "name": "ipython",
    "version": 3
   },
   "file_extension": ".py",
   "mimetype": "text/x-python",
   "name": "python",
   "nbconvert_exporter": "python",
   "pygments_lexer": "ipython3",
   "version": "3.7.0"
  }
 },
 "nbformat": 4,
 "nbformat_minor": 4
}
