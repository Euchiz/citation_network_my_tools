{
 "cells": [
  {
   "cell_type": "markdown",
   "metadata": {},
   "source": [
    "©ZacZou\n",
    "2020.12.4\n",
    "根据WoS导出的文件将文章和作者中的PI对应起来（PI来自参考清单，从官网摘取整理得到）"
   ]
  },
  {
   "cell_type": "code",
   "execution_count": 119,
   "metadata": {},
   "outputs": [
    {
     "name": "stdout",
     "output_type": "stream",
     "text": [
      "Extraction Succeeded\n",
      "Please wait. Now writing file......\n",
      "Finished, 409 elements saved.\n"
     ]
    }
   ],
   "source": [
    "import time\n",
    "\n",
    "def read_and_catch(file_loc, ref_loc):\n",
    "    \n",
    "    f = open(file_loc)\n",
    "    text = f.readlines()\n",
    "    f.close\n",
    "    f = open(ref_loc)\n",
    "    ref_list = [i.strip() for i in f.readlines()]\n",
    "    f.close\n",
    "    \n",
    "    ready = finish = True\n",
    "    titles = []\n",
    "    authors = []\n",
    "    \n",
    "    for line in text:\n",
    "        head = line[0:2]\n",
    "        if head == \"AF\" and (ready) and (finish):\n",
    "            new = []\n",
    "            name = line.strip()[3:]\n",
    "            if name in ref_list:\n",
    "                new += [name]\n",
    "            ready = False\n",
    "        if head == \"  \" and (not ready) and (finish):\n",
    "            name = line.strip()\n",
    "            if name in ref_list:\n",
    "                new += [name]\n",
    "        if head == \"TI\" and (not ready) and (finish):\n",
    "            title = line.strip()[3:]\n",
    "            finish = False\n",
    "        if head == \"  \" and (not ready) and (not finish):\n",
    "            title += \" \" + line.strip()\n",
    "        if head == \"SO\" and (not ready) and (not finish):\n",
    "            titles += [title.strip()]\n",
    "            authors +=  [new]\n",
    "            finish = ready = True\n",
    "    for i in range(0,len(authors)):\n",
    "        if authors[i] == []:\n",
    "            authors[i] = ['NA']\n",
    "            \n",
    "    return [titles, authors]\n",
    "\n",
    "if __name__ == '__main__':\n",
    "    loc = \"/home/zaczou/projects/network_science/data/\"\n",
    "    titles = [\"title\"]\n",
    "    authors = [[[\"author\"]]]\n",
    "    for year in range(2015,2020):\n",
    "        [tmp1, tmp2] = read_and_catch(loc+\"download_%d.txt\"%year,loc+\"pi_list.txt\")\n",
    "        titles += tmp1\n",
    "        authors += tmp2\n",
    "    if(len(titles)==len(authors)): print(\"Extraction Succeeded\")\n",
    "    else: print(\"Extraction Failed\")\n",
    "    f = open(loc+\"pi-title.tsv\", 'w')\n",
    "    for i in range(0,len(titles)):\n",
    "        print(\"%s\"%titles[i], end = '', file = f)\n",
    "        for value in authors[i]:\n",
    "            print(\"\\t%s\"%value, end = '', file = f)\n",
    "        print(\"\\n\", end = '', file = f)\n",
    "    f.close\n",
    "    print(\"Please wait. Now writing file......\")\n",
    "    time.sleep(30)\n",
    "    print(\"Finished, %d elements saved.\"%(len(titles)-1))"
   ]
  },
  {
   "cell_type": "code",
   "execution_count": null,
   "metadata": {},
   "outputs": [],
   "source": []
  }
 ],
 "metadata": {
  "kernelspec": {
   "display_name": "Python 3",
   "language": "python",
   "name": "python3"
  },
  "language_info": {
   "codemirror_mode": {
    "name": "ipython",
    "version": 3
   },
   "file_extension": ".py",
   "mimetype": "text/x-python",
   "name": "python",
   "nbconvert_exporter": "python",
   "pygments_lexer": "ipython3",
   "version": "3.7.0"
  }
 },
 "nbformat": 4,
 "nbformat_minor": 4
}
