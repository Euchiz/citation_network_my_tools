{
 "cells": [
  {
   "cell_type": "code",
   "execution_count": 7,
   "metadata": {},
   "outputs": [
    {
     "name": "stdout",
     "output_type": "stream",
     "text": [
      "检索年份为：2019\n",
      "\n",
      "检索表达式已经存储到当前目录下的*.expr.txt\n"
     ]
    }
   ],
   "source": [
    "# automatically construct a query expression in WoS form\n",
    "\n",
    "import re\n",
    "\n",
    "def read_titles(loc):\n",
    "    file = open(loc)\n",
    "    text = file.readlines()\n",
    "    file.close\n",
    "    titles = []\n",
    "    for line in text:\n",
    "        if len(line.strip()) < 5: \n",
    "            continue\n",
    "        else:\n",
    "            pattern = re.search('(.*)\\((....)\\)(.*)',line)\n",
    "            titles += [pattern.group(3).split('.')[0].split('?')[0].strip()]\n",
    "    print('检索年份为：' + pattern.group(2))\n",
    "    return titles\n",
    "\n",
    "def combine_expr(titles):\n",
    "    expr = 'TS=(\\\"' + '\\\" OR \\\"'.join(titles) + '\\\")'\n",
    "    return expr \n",
    "\n",
    "def store(expr,loc):\n",
    "    file = open(loc.strip('txt')+'expr.txt','w')\n",
    "    file.write(expr)\n",
    "    file.close\n",
    "\n",
    "if __name__ == '__main__':\n",
    "    loc = '/home/zaczou/projects/network_science/2019.txt' # enter your data file location here\n",
    "    titles = read_titles(loc)\n",
    "    expr = combine_expr(titles)\n",
    "    store(expr,loc)\n",
    "    print('\\n检索表达式已经存储到当前目录下的*.expr.txt')"
   ]
  },
  {
   "cell_type": "code",
   "execution_count": null,
   "metadata": {},
   "outputs": [],
   "source": []
  }
 ],
 "metadata": {
  "kernelspec": {
   "display_name": "Python 3",
   "language": "python",
   "name": "python3"
  },
  "language_info": {
   "codemirror_mode": {
    "name": "ipython",
    "version": 3
   },
   "file_extension": ".py",
   "mimetype": "text/x-python",
   "name": "python",
   "nbconvert_exporter": "python",
   "pygments_lexer": "ipython3",
   "version": "3.7.0"
  }
 },
 "nbformat": 4,
 "nbformat_minor": 4
}
